{
 "cells": [
  {
   "cell_type": "code",
   "execution_count": 1,
   "metadata": {},
   "outputs": [
    {
     "name": "stdout",
     "output_type": "stream",
     "text": [
      "Requirement already satisfied: googletrans in c:\\users\\kh\\anaconda3\\lib\\site-packages (2.4.0)\n",
      "Requirement already satisfied: requests in c:\\users\\kh\\anaconda3\\lib\\site-packages (from googletrans) (2.22.0)\n",
      "Requirement already satisfied: certifi>=2017.4.17 in c:\\users\\kh\\anaconda3\\lib\\site-packages (from requests->googletrans) (2019.9.11)\n",
      "Requirement already satisfied: urllib3!=1.25.0,!=1.25.1,<1.26,>=1.21.1 in c:\\users\\kh\\anaconda3\\lib\\site-packages (from requests->googletrans) (1.24.2)\n",
      "Requirement already satisfied: idna<2.9,>=2.5 in c:\\users\\kh\\anaconda3\\lib\\site-packages (from requests->googletrans) (2.8)\n",
      "Requirement already satisfied: chardet<3.1.0,>=3.0.2 in c:\\users\\kh\\anaconda3\\lib\\site-packages (from requests->googletrans) (3.0.4)\n",
      "Note: you may need to restart the kernel to use updated packages.\n"
     ]
    }
   ],
   "source": [
    "pip install googletrans"
   ]
  },
  {
   "cell_type": "code",
   "execution_count": 15,
   "metadata": {},
   "outputs": [
    {
     "data": {
      "text/plain": [
       "<googletrans.models.Translated at 0x14c9180adc8>"
      ]
     },
     "execution_count": 15,
     "metadata": {},
     "output_type": "execute_result"
    }
   ],
   "source": [
    "from googletrans import Translator\n",
    "translator = Translator()\n",
    "result = translator.translate('안녕하세요.')\n",
    "# <Translated src=ko dest=en text=Good evening. pronunciation=Good evening.>\n",
    "translator.translate('안녕하세요.', dest='ja')\n",
    "# <Translated src=ko dest=ja text=こんにちは。 pronunciation=Kon'nichiwa.>\n",
    "translator.translate('veritas lux mea', src='la')\n",
    "# <Translated src=la dest=en text=The truth is my light pronunciation=The truth is my light>"
   ]
  },
  {
   "cell_type": "code",
   "execution_count": 16,
   "metadata": {},
   "outputs": [
    {
     "name": "stdout",
     "output_type": "stream",
     "text": [
      "ko\n",
      "en\n",
      "안녕하세요.\n",
      "Hi.\n",
      "None\n"
     ]
    }
   ],
   "source": [
    "print(result.src)\n",
    "print(result.dest)\n",
    "print(result.origin)\n",
    "print(result.text)\n",
    "print(result.pronunciation)"
   ]
  },
  {
   "cell_type": "code",
   "execution_count": 25,
   "metadata": {},
   "outputs": [
    {
     "data": {
      "text/plain": [
       "<googletrans.models.Detected at 0x14c928e5b88>"
      ]
     },
     "execution_count": 25,
     "metadata": {},
     "output_type": "execute_result"
    }
   ],
   "source": [
    "from googletrans import Translator\n",
    "translator = Translator()\n",
    "detected = translator.detect('이 문장은 한글로 쓰여졌습니다.')\n",
    "# <Detected lang=ko confidence=0.27041003>\n",
    "translator.detect('この文章は日本語で書かれました。')\n",
    "# <Detected lang=ja confidence=0.64889508>\n",
    "translator.detect('This sentence is written in English.')\n",
    "# <Detected lang=en confidence=0.22348526>\n",
    "translator.detect('Tiu frazo estas skribita en Esperanto.')\n",
    "# <Detected lang=eo confidence=0.10538048>"
   ]
  },
  {
   "cell_type": "code",
   "execution_count": 26,
   "metadata": {},
   "outputs": [
    {
     "name": "stdout",
     "output_type": "stream",
     "text": [
      "Detected Language: ko  with confidence:  1.0\n"
     ]
    }
   ],
   "source": [
    "print('Detected Language:', detected.lang, ' with confidence: ', detected.confidence)\n",
    "\n",
    "# Detected Language: ja  with confidence:  1"
   ]
  },
  {
   "cell_type": "code",
   "execution_count": 178,
   "metadata": {},
   "outputs": [
    {
     "name": "stdout",
     "output_type": "stream",
     "text": [
      "   id                                        description              try  \\\n",
      "0   1  لي حرية التغريد ،،، ولك حرية المتابعه ،،، مسؤل...            hello   \n",
      "1   2  Quiero ser un aporte a la sociedad, sea con mi...             what   \n",
      "2   3  昔は海外旅行が好きでよく行ってたけど仕事を始めるとなかなかまとまった時間がとれないね。 最近...         how much   \n",
      "3   5  1인 미디어/언론/평화통일/민주주의/노무현/역사/시대정신/사진가-DSLR/컴퓨터-네...         love you   \n",
      "4   6  Being a Belieber is something unexplainable! L...              why   \n",
      "5   2                                 Rahaf is beautiful              yes   \n",
      "6   5  1인 미디어/언론/평화통일/민주주의/노무현/역사/시대정신/사진가-DSLR/컴퓨터-네...         love you   \n",
      "7   7  福岡在住のトレーダーですバイナリー用アカールよりも裁量取引勝率8割超えトレーダー仲間募集中気...               hi   \n",
      "8   7  福岡在住のトレーダーです😋バイナリー用アカ💕ツールよりも裁量取引🙆勝率8割超え✨トレーダー仲...               hi   \n",
      "9   8  #파도게임 바둑이 맞고 포커 게임문의 010-5441-6905 24시간 콜센터 운영...  how old are you   \n",
      "\n",
      "   translate  \n",
      "0        NaN  \n",
      "1        NaN  \n",
      "2        NaN  \n",
      "3        NaN  \n",
      "4        NaN  \n",
      "5        NaN  \n",
      "6        NaN  \n",
      "7        NaN  \n",
      "8        NaN  \n",
      "9        NaN  \n"
     ]
    }
   ],
   "source": [
    "import pandas as pd\n",
    "\n",
    "csv_read = pd.read_csv('try.csv', delimiter=',')\n",
    "print(csv_read.head(10))"
   ]
  },
  {
   "cell_type": "code",
   "execution_count": 139,
   "metadata": {
    "scrolled": true
   },
   "outputs": [
    {
     "name": "stdout",
     "output_type": "stream",
     "text": [
      "لي حرية التغريد ،،، ولك حرية المتابعه ،،، مسؤلاً عما اكتبه ولست مسؤولاً عما تفهمه ،،، النقد الهادف هدية أقدرها مماً يقدمها ،،، بأسلوب جميل❗️️\n",
      "Quiero ser un aporte a la sociedad, sea con mis letras o acciones, sueño con tener miles de contactos por el mundo para todos trabajar por un bien comun, creo e\n",
      "昔は海外旅行が好きでよく行ってたけど仕事を始めるとなかなかまとまった時間がとれないね。 最近子供が生まれました。  そんなつぶやきを気軽にしていこうかなぁ\n",
      "1인 미디어/언론/평화통일/민주주의/노무현/역사/시대정신/사진가-DSLR/컴퓨터-네트웍-IT/ [백범] 눈 덮힌 들판을 걸어갈 때 발걸음을 하나라도 어지럽히지 말라. 오늘 내가 가는 길은 뒷사람의 이정표가 될 것이므로...늘 웃음이 아름다운 COREA\n",
      "Being a Belieber is something unexplainable! Like   #Instagram: rayssacr\n",
      "福岡在住のトレーダーです😋バイナリー用アカ💕ツールよりも裁量取引🙆勝率8割超え✨トレーダー仲間募集中💓気軽にフォローミー👍気になったらDM待ってます‼️📩\n",
      "#파도게임 바둑이 맞고 포커 게임문의 010-5441-6905 24시간 콜센터 운영중 #파도게임 이벤트의리가 파도처럼 밀려온다. 즐거운 하루되세요.(즐거리우스)\n",
      "An Alaskan girl at ❤. Trying to live the city life in Denver.\n"
     ]
    }
   ],
   "source": [
    "\n",
    "for x,row in enumerate(csv_read.description):\n",
    "    print (row)"
   ]
  },
  {
   "cell_type": "code",
   "execution_count": 146,
   "metadata": {},
   "outputs": [
    {
     "name": "stdout",
     "output_type": "stream",
     "text": [
      "لي حرية التغريد ،،، ولك حرية المتابعه ،،، مسؤلاً عما اكتبه ولست مسؤولاً عما تفهمه ،،، النقد الهادف هدية أقدرها مماً يقدمها ،،، بأسلوب جميل❗️️\n",
      "Quiero ser un aporte a la sociedad, sea con mis letras o acciones, sueño con tener miles de contactos por el mundo para todos trabajar por un bien comun, creo e\n",
      "昔は海外旅行が好きでよく行ってたけど仕事を始めるとなかなかまとまった時間がとれないね。 最近子供が生まれました。  そんなつぶやきを気軽にしていこうかなぁ\n",
      "1인 미디어/언론/평화통일/민주주의/노무현/역사/시대정신/사진가-DSLR/컴퓨터-네트웍-IT/ [백범] 눈 덮힌 들판을 걸어갈 때 발걸음을 하나라도 어지럽히지 말라. 오늘 내가 가는 길은 뒷사람의 이정표가 될 것이므로...늘 웃음이 아름다운 COREA\n",
      "Being a Belieber is something unexplainable! Like   #Instagram: rayssacr\n",
      "福岡在住のトレーダーです😋バイナリー用アカ💕ツールよりも裁量取引🙆勝率8割超え✨トレーダー仲間募集中💓気軽にフォローミー👍気になったらDM待ってます‼️📩\n",
      "#파도게임 바둑이 맞고 포커 게임문의 010-5441-6905 24시간 콜센터 운영중 #파도게임 이벤트의리가 파도처럼 밀려온다. 즐거운 하루되세요.(즐거리우스)\n",
      "An Alaskan girl at ❤. Trying to live the city life in Denver.\n"
     ]
    }
   ],
   "source": [
    "for x,row in enumerate(csv_read.description):\n",
    "    print (csv_read.iloc[x][1])"
   ]
  },
  {
   "cell_type": "code",
   "execution_count": 137,
   "metadata": {},
   "outputs": [
    {
     "name": "stdout",
     "output_type": "stream",
     "text": [
      "i\n",
      "d\n",
      "t\n"
     ]
    }
   ],
   "source": [
    "for row in csv_read:\n",
    "    print (row[0])"
   ]
  },
  {
   "cell_type": "code",
   "execution_count": 114,
   "metadata": {},
   "outputs": [
    {
     "name": "stdout",
     "output_type": "stream",
     "text": [
      "['d']\n",
      "['e']\n",
      "['r']\n"
     ]
    }
   ],
   "source": [
    "included_cols = [1]\n",
    "\n",
    "for row in csv_read:\n",
    "    content = list(row[i] for i in included_cols)\n",
    "    print (content)"
   ]
  },
  {
   "cell_type": "code",
   "execution_count": 164,
   "metadata": {},
   "outputs": [],
   "source": [
    "saved_column = csv_read.description"
   ]
  },
  {
   "cell_type": "code",
   "execution_count": 179,
   "metadata": {
    "scrolled": false
   },
   "outputs": [
    {
     "name": "stdout",
     "output_type": "stream",
     "text": [
      "0     لي حرية التغريد ،،، ولك حرية المتابعه ،،، مسؤل...\n",
      "1     Quiero ser un aporte a la sociedad, sea con mi...\n",
      "2     昔は海外旅行が好きでよく行ってたけど仕事を始めるとなかなかまとまった時間がとれないね。 最近...\n",
      "3     1인 미디어/언론/평화통일/민주주의/노무현/역사/시대정신/사진가-DSLR/컴퓨터-네...\n",
      "4     Being a Belieber is something unexplainable! L...\n",
      "5                                    Rahaf is beautiful\n",
      "6     1인 미디어/언론/평화통일/민주주의/노무현/역사/시대정신/사진가-DSLR/컴퓨터-네...\n",
      "7     福岡在住のトレーダーですバイナリー用アカールよりも裁量取引勝率8割超えトレーダー仲間募集中気...\n",
      "8     福岡在住のトレーダーです😋バイナリー用アカ💕ツールよりも裁量取引🙆勝率8割超え✨トレーダー仲...\n",
      "9     #파도게임 바둑이 맞고 포커 게임문의 010-5441-6905 24시간 콜센터 운영...\n",
      "10    An Alaskan girl at ❤. Trying to live the city ...\n",
      "Name: description, dtype: object\n",
      "11\n",
      "[1]\n",
      "['لي حرية التغريد ،،، ولك حرية المتابعه ،،، مسؤلاً عما اكتبه ولست مسؤولاً عما تفهمه ،،، النقد الهادف هدية أقدرها مماً يقدمها ،،، بأسلوب جميل❗️️']\n",
      "[1]\n",
      "['Quiero ser un aporte a la sociedad, sea con mis letras o acciones, sueño con tener miles de contactos por el mundo para todos trabajar por un bien comun, creo e']\n",
      "[1]\n",
      "['昔は海外旅行が好きでよく行ってたけど仕事を始めるとなかなかまとまった時間がとれないね。 最近子供が生まれました。  そんなつぶやきを気軽にしていこうかなぁ']\n",
      "[1]\n",
      "['1인 미디어/언론/평화통일/민주주의/노무현/역사/시대정신/사진가-DSLR/컴퓨터-네트웍-IT/ [백범] 눈 덮힌 들판을 걸어갈 때 발걸음을 하나라도 어지럽히지 말라. 오늘 내가 가는 길은 뒷사람의 이정표가 될 것이므로...늘 웃음이 아름다운 COREA']\n",
      "[1]\n",
      "['Being a Belieber is something unexplainable! Like   #Instagram: rayssacr']\n",
      "[1]\n",
      "['Rahaf is beautiful']\n",
      "[1]\n",
      "['1인 미디어/언론/평화통일/민주주의/노무현/역사/시대정신/사진가-DSLR/컴퓨터-네트웍-IT/ [백범] 눈 덮힌 들판을 걸어갈 때 발걸음을 하나라도 어지럽히지 말라. 오늘 내가 가는 길은 뒷사람의 이정표가 될 것이므로...늘 웃음이 아름다운 COREA']\n",
      "[1]\n",
      "['福岡在住のトレーダーですバイナリー用アカールよりも裁量取引勝率8割超えトレーダー仲間募集中気軽にフォローミー気になったらDM待ってます']\n",
      "[1]\n",
      "['福岡在住のトレーダーです😋バイナリー用アカ💕ツールよりも裁量取引🙆勝率8割超え✨トレーダー仲間募集中💓気軽にフォローミー👍気になったらDM待ってます‼️📩']\n",
      "[1]\n",
      "['#파도게임 바둑이 맞고 포커 게임문의 010-5441-6905 24시간 콜센터 운영중 #파도게임 이벤트의리가 파도처럼 밀려온다. 즐거운 하루되세요.(즐거리우스)']\n",
      "[1]\n",
      "['An Alaskan girl at ❤. Trying to live the city life in Denver.']\n",
      "((((((((((((((((((((((((((((((((((((((((((()))))))))))))))))))))))))))))))))))))))))))\n",
      "nan\n",
      "((((((((((((((((((((((((((((((((((((((((((()))))))))))))))))))))))))))))))))))))))))))\n",
      "لي حرية التغريد ،،، ولك حرية المتابعه ،،، مسؤلاً عما اكتبه ولست مسؤولاً عما تفهمه ،،، النقد الهادف هدية أقدرها مماً يقدمها ،،، بأسلوب جميل❗️️\n",
      "--------------\n",
      "Twitter me freedom ,,, and you freedom ,,, Continue accountable for what I write and I am not responsible for what understanding ,,, purposeful criticism gift which provided appreciate it ,,, Jamil❗️️ style\n",
      "tttttttttttttttttttttttttttttt\n",
      "nan\n",
      "/////////////////////\n",
      "Quiero ser un aporte a la sociedad, sea con mis letras o acciones, sueño con tener miles de contactos por el mundo para todos trabajar por un bien comun, creo e\n",
      "--------------\n"
     ]
    },
    {
     "name": "stderr",
     "output_type": "stream",
     "text": [
      "C:\\Users\\Kh\\Anaconda3\\lib\\site-packages\\ipykernel_launcher.py:23: SettingWithCopyWarning: \n",
      "A value is trying to be set on a copy of a slice from a DataFrame\n",
      "\n",
      "See the caveats in the documentation: http://pandas.pydata.org/pandas-docs/stable/user_guide/indexing.html#returning-a-view-versus-a-copy\n"
     ]
    },
    {
     "name": "stdout",
     "output_type": "stream",
     "text": [
      "I want to be a contribution to society, either with my lyrics or actions, dream of having thousands of contacts around the world to all work for a common good, I think e\n",
      "tttttttttttttttttttttttttttttt\n",
      "nan\n",
      "/////////////////////\n",
      "昔は海外旅行が好きでよく行ってたけど仕事を始めるとなかなかまとまった時間がとれないね。 最近子供が生まれました。  そんなつぶやきを気軽にしていこうかなぁ\n",
      "--------------\n",
      "It does not take a quite coherent time and start the work I had done well like to travel abroad long ago. Recent child was born. I wonder if Let's to feel such a tweet\n",
      "tttttttttttttttttttttttttttttt\n",
      "nan\n",
      "/////////////////////\n",
      "1인 미디어/언론/평화통일/민주주의/노무현/역사/시대정신/사진가-DSLR/컴퓨터-네트웍-IT/ [백범] 눈 덮힌 들판을 걸어갈 때 발걸음을 하나라도 어지럽히지 말라. 오늘 내가 가는 길은 뒷사람의 이정표가 될 것이므로...늘 웃음이 아름다운 COREA\n",
      "--------------\n",
      "1 Media / Press / Unification / democracy / Roh / History / spirit / photographer -DSLR / Computer-one network -IT / [baekbeom] feet when you walk down the snow-covered fields, do any cluttering. Because today I will be a milestone in the road to dwitsaram ... COREA always a beautiful smile\n",
      "tttttttttttttttttttttttttttttt\n",
      "nan\n",
      "/////////////////////\n",
      "Being a Belieber is something unexplainable! Like   #Instagram: rayssacr\n",
      "--------------\n",
      "Being a Belieber is something unexplainable! Like   #Instagram: rayssacr\n",
      "tttttttttttttttttttttttttttttt\n",
      "nan\n",
      "/////////////////////\n",
      "Rahaf is beautiful\n",
      "--------------\n",
      "Rahaf is beautiful\n",
      "tttttttttttttttttttttttttttttt\n",
      "nan\n",
      "/////////////////////\n",
      "1인 미디어/언론/평화통일/민주주의/노무현/역사/시대정신/사진가-DSLR/컴퓨터-네트웍-IT/ [백범] 눈 덮힌 들판을 걸어갈 때 발걸음을 하나라도 어지럽히지 말라. 오늘 내가 가는 길은 뒷사람의 이정표가 될 것이므로...늘 웃음이 아름다운 COREA\n",
      "--------------\n",
      "1 Media / Press / Unification / democracy / Roh / History / spirit / photographer -DSLR / Computer-one network -IT / [baekbeom] feet when you walk down the snow-covered fields, do any cluttering. Because today I will be a milestone in the road to dwitsaram ... COREA always a beautiful smile\n",
      "tttttttttttttttttttttttttttttt\n",
      "nan\n",
      "/////////////////////\n",
      "福岡在住のトレーダーですバイナリー用アカールよりも裁量取引勝率8割超えトレーダー仲間募集中気軽にフォローミー気になったらDM待ってます\n",
      "--------------\n",
      "Fukuoka is a resident traders await DM Once you become feel free to Follow Me aerial recruiting discretion traded winning percentage 8 Warikoe trader fellow than binary for Akaru\n",
      "tttttttttttttttttttttttttttttt\n",
      "nan\n",
      "/////////////////////\n",
      "   id                                        description              try  \\\n",
      "0   1  لي حرية التغريد ،،، ولك حرية المتابعه ،،، مسؤل...            hello   \n",
      "1   2  Quiero ser un aporte a la sociedad, sea con mi...             what   \n",
      "2   3  昔は海外旅行が好きでよく行ってたけど仕事を始めるとなかなかまとまった時間がとれないね。 最近...         how much   \n",
      "3   5  1인 미디어/언론/평화통일/민주주의/노무현/역사/시대정신/사진가-DSLR/컴퓨터-네...         love you   \n",
      "4   6  Being a Belieber is something unexplainable! L...              why   \n",
      "5   2                                 Rahaf is beautiful              yes   \n",
      "6   5  1인 미디어/언론/평화통일/민주주의/노무현/역사/시대정신/사진가-DSLR/컴퓨터-네...         love you   \n",
      "7   7  福岡在住のトレーダーですバイナリー用アカールよりも裁量取引勝率8割超えトレーダー仲間募集中気...               hi   \n",
      "8   7  福岡在住のトレーダーです😋バイナリー用アカ💕ツールよりも裁量取引🙆勝率8割超え✨トレーダー仲...               hi   \n",
      "9   8  #파도게임 바둑이 맞고 포커 게임문의 010-5441-6905 24시간 콜센터 운영...  how old are you   \n",
      "\n",
      "   translate  \n",
      "0        NaN  \n",
      "1        NaN  \n",
      "2        NaN  \n",
      "3        NaN  \n",
      "4        NaN  \n",
      "5        NaN  \n",
      "6        NaN  \n",
      "7        NaN  \n",
      "8        NaN  \n",
      "9        NaN  \n"
     ]
    }
   ],
   "source": [
    "\n",
    "print (saved_column)\n",
    "#length = saved_column.len()\n",
    "#print (length)\n",
    "rrr = [1]\n",
    "#print(row[1])\n",
    "print (len(saved_column))\n",
    "for row in saved_column:\n",
    "#    content = list(row[i] for i in rrr)\n",
    "    content = list(row for i in rrr)\n",
    "    print(rrr)\n",
    "    print (content)\n",
    "    \n",
    "print(\"((((((((((((((((((((((((((((((((((((((((((()))))))))))))))))))))))))))))))))))))))))))\")\n",
    "print(csv_read.iloc[1][3])\n",
    "print(\"((((((((((((((((((((((((((((((((((((((((((()))))))))))))))))))))))))))))))))))))))))))\")\n",
    "\n",
    "for x in range(8):\n",
    "    content= csv_read.iloc[x][1]\n",
    "    print (content)\n",
    "    print('--------------')\n",
    "    result = translator.translate(content)\n",
    "    print(result.text)\n",
    "    csv_read.iloc[x][3]= result.text\n",
    "    print(\"tttttttttttttttttttttttttttttt\")\n",
    "    print(csv_read.iloc[x][3])\n",
    "    print(\"/////////////////////\")\n",
    "\n",
    "print(csv_read.head(10))\n",
    "#for i, row in enumerate(data.values):\n",
    " #   # Fill empty dataframe with given serie.\n",
    "  #  df.loc[i] = translate_row(row)"
   ]
  },
  {
   "cell_type": "code",
   "execution_count": 174,
   "metadata": {},
   "outputs": [
    {
     "ename": "TypeError",
     "evalue": "ord() expected string of length 1, but int found",
     "output_type": "error",
     "traceback": [
      "\u001b[1;31m---------------------------------------------------------------------------\u001b[0m",
      "\u001b[1;31mTypeError\u001b[0m                                 Traceback (most recent call last)",
      "\u001b[1;32m<ipython-input-174-871181a0454d>\u001b[0m in \u001b[0;36m<module>\u001b[1;34m\u001b[0m\n\u001b[0;32m      1\u001b[0m \u001b[1;32mfor\u001b[0m \u001b[0mi\u001b[0m\u001b[1;33m,\u001b[0m \u001b[0mrow\u001b[0m \u001b[1;32min\u001b[0m \u001b[0menumerate\u001b[0m\u001b[1;33m(\u001b[0m\u001b[0mcsv_read\u001b[0m\u001b[1;33m.\u001b[0m\u001b[0mvalues\u001b[0m\u001b[1;33m)\u001b[0m\u001b[1;33m:\u001b[0m\u001b[1;33m\u001b[0m\u001b[1;33m\u001b[0m\u001b[0m\n\u001b[0;32m      2\u001b[0m     \u001b[1;31m# Fill empty dataframe with given serie.\u001b[0m\u001b[1;33m\u001b[0m\u001b[1;33m\u001b[0m\u001b[1;33m\u001b[0m\u001b[0m\n\u001b[1;32m----> 3\u001b[1;33m     \u001b[0mcsv_read\u001b[0m\u001b[1;33m.\u001b[0m\u001b[0mloc\u001b[0m\u001b[1;33m[\u001b[0m\u001b[0mi\u001b[0m\u001b[1;33m]\u001b[0m \u001b[1;33m=\u001b[0m \u001b[0mtranslator\u001b[0m\u001b[1;33m.\u001b[0m\u001b[0mtranslate\u001b[0m\u001b[1;33m(\u001b[0m\u001b[0mrow\u001b[0m\u001b[1;33m)\u001b[0m\u001b[1;33m\u001b[0m\u001b[1;33m\u001b[0m\u001b[0m\n\u001b[0m\u001b[0;32m      4\u001b[0m \u001b[1;33m\u001b[0m\u001b[0m\n\u001b[0;32m      5\u001b[0m \u001b[0mprint\u001b[0m\u001b[1;33m(\u001b[0m\u001b[0mcsv_read\u001b[0m\u001b[1;33m)\u001b[0m\u001b[1;33m\u001b[0m\u001b[1;33m\u001b[0m\u001b[0m\n",
      "\u001b[1;32m~\\Anaconda3\\lib\\site-packages\\googletrans\\client.py\u001b[0m in \u001b[0;36mtranslate\u001b[1;34m(self, text, dest, src)\u001b[0m\n\u001b[0;32m    170\u001b[0m \u001b[1;33m\u001b[0m\u001b[0m\n\u001b[0;32m    171\u001b[0m         \u001b[0morigin\u001b[0m \u001b[1;33m=\u001b[0m \u001b[0mtext\u001b[0m\u001b[1;33m\u001b[0m\u001b[1;33m\u001b[0m\u001b[0m\n\u001b[1;32m--> 172\u001b[1;33m         \u001b[0mdata\u001b[0m \u001b[1;33m=\u001b[0m \u001b[0mself\u001b[0m\u001b[1;33m.\u001b[0m\u001b[0m_translate\u001b[0m\u001b[1;33m(\u001b[0m\u001b[0mtext\u001b[0m\u001b[1;33m,\u001b[0m \u001b[0mdest\u001b[0m\u001b[1;33m,\u001b[0m \u001b[0msrc\u001b[0m\u001b[1;33m)\u001b[0m\u001b[1;33m\u001b[0m\u001b[1;33m\u001b[0m\u001b[0m\n\u001b[0m\u001b[0;32m    173\u001b[0m \u001b[1;33m\u001b[0m\u001b[0m\n\u001b[0;32m    174\u001b[0m         \u001b[1;31m# this code will be updated when the format is changed.\u001b[0m\u001b[1;33m\u001b[0m\u001b[1;33m\u001b[0m\u001b[1;33m\u001b[0m\u001b[0m\n",
      "\u001b[1;32m~\\Anaconda3\\lib\\site-packages\\googletrans\\client.py\u001b[0m in \u001b[0;36m_translate\u001b[1;34m(self, text, dest, src)\u001b[0m\n\u001b[0;32m     73\u001b[0m             \u001b[0mtext\u001b[0m \u001b[1;33m=\u001b[0m \u001b[0mtext\u001b[0m\u001b[1;33m.\u001b[0m\u001b[0mdecode\u001b[0m\u001b[1;33m(\u001b[0m\u001b[1;34m'utf-8'\u001b[0m\u001b[1;33m)\u001b[0m\u001b[1;33m\u001b[0m\u001b[1;33m\u001b[0m\u001b[0m\n\u001b[0;32m     74\u001b[0m \u001b[1;33m\u001b[0m\u001b[0m\n\u001b[1;32m---> 75\u001b[1;33m         \u001b[0mtoken\u001b[0m \u001b[1;33m=\u001b[0m \u001b[0mself\u001b[0m\u001b[1;33m.\u001b[0m\u001b[0mtoken_acquirer\u001b[0m\u001b[1;33m.\u001b[0m\u001b[0mdo\u001b[0m\u001b[1;33m(\u001b[0m\u001b[0mtext\u001b[0m\u001b[1;33m)\u001b[0m\u001b[1;33m\u001b[0m\u001b[1;33m\u001b[0m\u001b[0m\n\u001b[0m\u001b[0;32m     76\u001b[0m         params = utils.build_params(query=text, src=src, dest=dest,\n\u001b[0;32m     77\u001b[0m                                     token=token)\n",
      "\u001b[1;32m~\\Anaconda3\\lib\\site-packages\\googletrans\\gtoken.py\u001b[0m in \u001b[0;36mdo\u001b[1;34m(self, text)\u001b[0m\n\u001b[0;32m    199\u001b[0m     \u001b[1;32mdef\u001b[0m \u001b[0mdo\u001b[0m\u001b[1;33m(\u001b[0m\u001b[0mself\u001b[0m\u001b[1;33m,\u001b[0m \u001b[0mtext\u001b[0m\u001b[1;33m)\u001b[0m\u001b[1;33m:\u001b[0m\u001b[1;33m\u001b[0m\u001b[1;33m\u001b[0m\u001b[0m\n\u001b[0;32m    200\u001b[0m         \u001b[0mself\u001b[0m\u001b[1;33m.\u001b[0m\u001b[0m_update\u001b[0m\u001b[1;33m(\u001b[0m\u001b[1;33m)\u001b[0m\u001b[1;33m\u001b[0m\u001b[1;33m\u001b[0m\u001b[0m\n\u001b[1;32m--> 201\u001b[1;33m         \u001b[0mtk\u001b[0m \u001b[1;33m=\u001b[0m \u001b[0mself\u001b[0m\u001b[1;33m.\u001b[0m\u001b[0macquire\u001b[0m\u001b[1;33m(\u001b[0m\u001b[0mtext\u001b[0m\u001b[1;33m)\u001b[0m\u001b[1;33m\u001b[0m\u001b[1;33m\u001b[0m\u001b[0m\n\u001b[0m\u001b[0;32m    202\u001b[0m         \u001b[1;32mreturn\u001b[0m \u001b[0mtk\u001b[0m\u001b[1;33m\u001b[0m\u001b[1;33m\u001b[0m\u001b[0m\n",
      "\u001b[1;32m~\\Anaconda3\\lib\\site-packages\\googletrans\\gtoken.py\u001b[0m in \u001b[0;36macquire\u001b[1;34m(self, text)\u001b[0m\n\u001b[0;32m    145\u001b[0m         \u001b[1;31m# Convert text to ints\u001b[0m\u001b[1;33m\u001b[0m\u001b[1;33m\u001b[0m\u001b[1;33m\u001b[0m\u001b[0m\n\u001b[0;32m    146\u001b[0m         \u001b[1;32mfor\u001b[0m \u001b[0mi\u001b[0m \u001b[1;32min\u001b[0m \u001b[0mtext\u001b[0m\u001b[1;33m:\u001b[0m\u001b[1;33m\u001b[0m\u001b[1;33m\u001b[0m\u001b[0m\n\u001b[1;32m--> 147\u001b[1;33m             \u001b[0mval\u001b[0m \u001b[1;33m=\u001b[0m \u001b[0mord\u001b[0m\u001b[1;33m(\u001b[0m\u001b[0mi\u001b[0m\u001b[1;33m)\u001b[0m\u001b[1;33m\u001b[0m\u001b[1;33m\u001b[0m\u001b[0m\n\u001b[0m\u001b[0;32m    148\u001b[0m             \u001b[1;32mif\u001b[0m \u001b[0mval\u001b[0m \u001b[1;33m<\u001b[0m \u001b[1;36m0x10000\u001b[0m\u001b[1;33m:\u001b[0m\u001b[1;33m\u001b[0m\u001b[1;33m\u001b[0m\u001b[0m\n\u001b[0;32m    149\u001b[0m                 \u001b[0ma\u001b[0m \u001b[1;33m+=\u001b[0m \u001b[1;33m[\u001b[0m\u001b[0mval\u001b[0m\u001b[1;33m]\u001b[0m\u001b[1;33m\u001b[0m\u001b[1;33m\u001b[0m\u001b[0m\n",
      "\u001b[1;31mTypeError\u001b[0m: ord() expected string of length 1, but int found"
     ]
    }
   ],
   "source": [
    "for i, row in enumerate(csv_read.values):\n",
    "    # Fill empty dataframe with given serie.\n",
    "    csv_read.loc[i] = translator.translate(row)\n",
    "\n",
    "print(csv_read)"
   ]
  },
  {
   "cell_type": "code",
   "execution_count": 117,
   "metadata": {},
   "outputs": [
    {
     "name": "stdout",
     "output_type": "stream",
     "text": [
      "لي حرية التغريد ،،، ولك حرية المتابعه ،،، مسؤلاً عما اكتبه ولست مسؤولاً عما تفهمه ،،، النقد الهادف هدية أقدرها مماً يقدمها ،،، بأسلوب جميل❗️️\n"
     ]
    }
   ],
   "source": [
    "print (saved_column[0])"
   ]
  },
  {
   "cell_type": "code",
   "execution_count": 118,
   "metadata": {
    "scrolled": false
   },
   "outputs": [
    {
     "ename": "TypeError",
     "evalue": "object of type 'generator' has no len()",
     "output_type": "error",
     "traceback": [
      "\u001b[1;31m---------------------------------------------------------------------------\u001b[0m",
      "\u001b[1;31mTypeError\u001b[0m                                 Traceback (most recent call last)",
      "\u001b[1;32m<ipython-input-118-a06fa10a5518>\u001b[0m in \u001b[0;36m<module>\u001b[1;34m\u001b[0m\n\u001b[0;32m      1\u001b[0m \u001b[1;32mfor\u001b[0m \u001b[0msaved_column\u001b[0m \u001b[1;32min\u001b[0m \u001b[0mcsv_read\u001b[0m\u001b[1;33m:\u001b[0m\u001b[1;33m\u001b[0m\u001b[1;33m\u001b[0m\u001b[0m\n\u001b[1;32m----> 2\u001b[1;33m     \u001b[0mresult\u001b[0m \u001b[1;33m=\u001b[0m \u001b[0mtranslator\u001b[0m\u001b[1;33m.\u001b[0m\u001b[0mtranslate\u001b[0m\u001b[1;33m(\u001b[0m\u001b[0msaved_column\u001b[0m\u001b[1;33m[\u001b[0m\u001b[0mi\u001b[0m\u001b[1;33m]\u001b[0m \u001b[1;32mfor\u001b[0m \u001b[0mi\u001b[0m \u001b[1;32min\u001b[0m \u001b[1;33m[\u001b[0m\u001b[1;36m0\u001b[0m\u001b[1;33m,\u001b[0m\u001b[1;36m1\u001b[0m\u001b[1;33m]\u001b[0m\u001b[1;33m)\u001b[0m\u001b[1;33m\u001b[0m\u001b[1;33m\u001b[0m\u001b[0m\n\u001b[0m\u001b[0;32m      3\u001b[0m     \u001b[0mprint\u001b[0m\u001b[1;33m(\u001b[0m\u001b[0mresult\u001b[0m\u001b[1;33m.\u001b[0m\u001b[0mtext\u001b[0m\u001b[1;33m)\u001b[0m\u001b[1;33m\u001b[0m\u001b[1;33m\u001b[0m\u001b[0m\n",
      "\u001b[1;32m~\\Anaconda3\\lib\\site-packages\\googletrans\\client.py\u001b[0m in \u001b[0;36mtranslate\u001b[1;34m(self, text, dest, src)\u001b[0m\n\u001b[0;32m    170\u001b[0m \u001b[1;33m\u001b[0m\u001b[0m\n\u001b[0;32m    171\u001b[0m         \u001b[0morigin\u001b[0m \u001b[1;33m=\u001b[0m \u001b[0mtext\u001b[0m\u001b[1;33m\u001b[0m\u001b[1;33m\u001b[0m\u001b[0m\n\u001b[1;32m--> 172\u001b[1;33m         \u001b[0mdata\u001b[0m \u001b[1;33m=\u001b[0m \u001b[0mself\u001b[0m\u001b[1;33m.\u001b[0m\u001b[0m_translate\u001b[0m\u001b[1;33m(\u001b[0m\u001b[0mtext\u001b[0m\u001b[1;33m,\u001b[0m \u001b[0mdest\u001b[0m\u001b[1;33m,\u001b[0m \u001b[0msrc\u001b[0m\u001b[1;33m)\u001b[0m\u001b[1;33m\u001b[0m\u001b[1;33m\u001b[0m\u001b[0m\n\u001b[0m\u001b[0;32m    173\u001b[0m \u001b[1;33m\u001b[0m\u001b[0m\n\u001b[0;32m    174\u001b[0m         \u001b[1;31m# this code will be updated when the format is changed.\u001b[0m\u001b[1;33m\u001b[0m\u001b[1;33m\u001b[0m\u001b[1;33m\u001b[0m\u001b[0m\n",
      "\u001b[1;32m~\\Anaconda3\\lib\\site-packages\\googletrans\\client.py\u001b[0m in \u001b[0;36m_translate\u001b[1;34m(self, text, dest, src)\u001b[0m\n\u001b[0;32m     73\u001b[0m             \u001b[0mtext\u001b[0m \u001b[1;33m=\u001b[0m \u001b[0mtext\u001b[0m\u001b[1;33m.\u001b[0m\u001b[0mdecode\u001b[0m\u001b[1;33m(\u001b[0m\u001b[1;34m'utf-8'\u001b[0m\u001b[1;33m)\u001b[0m\u001b[1;33m\u001b[0m\u001b[1;33m\u001b[0m\u001b[0m\n\u001b[0;32m     74\u001b[0m \u001b[1;33m\u001b[0m\u001b[0m\n\u001b[1;32m---> 75\u001b[1;33m         \u001b[0mtoken\u001b[0m \u001b[1;33m=\u001b[0m \u001b[0mself\u001b[0m\u001b[1;33m.\u001b[0m\u001b[0mtoken_acquirer\u001b[0m\u001b[1;33m.\u001b[0m\u001b[0mdo\u001b[0m\u001b[1;33m(\u001b[0m\u001b[0mtext\u001b[0m\u001b[1;33m)\u001b[0m\u001b[1;33m\u001b[0m\u001b[1;33m\u001b[0m\u001b[0m\n\u001b[0m\u001b[0;32m     76\u001b[0m         params = utils.build_params(query=text, src=src, dest=dest,\n\u001b[0;32m     77\u001b[0m                                     token=token)\n",
      "\u001b[1;32m~\\Anaconda3\\lib\\site-packages\\googletrans\\gtoken.py\u001b[0m in \u001b[0;36mdo\u001b[1;34m(self, text)\u001b[0m\n\u001b[0;32m    199\u001b[0m     \u001b[1;32mdef\u001b[0m \u001b[0mdo\u001b[0m\u001b[1;33m(\u001b[0m\u001b[0mself\u001b[0m\u001b[1;33m,\u001b[0m \u001b[0mtext\u001b[0m\u001b[1;33m)\u001b[0m\u001b[1;33m:\u001b[0m\u001b[1;33m\u001b[0m\u001b[1;33m\u001b[0m\u001b[0m\n\u001b[0;32m    200\u001b[0m         \u001b[0mself\u001b[0m\u001b[1;33m.\u001b[0m\u001b[0m_update\u001b[0m\u001b[1;33m(\u001b[0m\u001b[1;33m)\u001b[0m\u001b[1;33m\u001b[0m\u001b[1;33m\u001b[0m\u001b[0m\n\u001b[1;32m--> 201\u001b[1;33m         \u001b[0mtk\u001b[0m \u001b[1;33m=\u001b[0m \u001b[0mself\u001b[0m\u001b[1;33m.\u001b[0m\u001b[0macquire\u001b[0m\u001b[1;33m(\u001b[0m\u001b[0mtext\u001b[0m\u001b[1;33m)\u001b[0m\u001b[1;33m\u001b[0m\u001b[1;33m\u001b[0m\u001b[0m\n\u001b[0m\u001b[0;32m    202\u001b[0m         \u001b[1;32mreturn\u001b[0m \u001b[0mtk\u001b[0m\u001b[1;33m\u001b[0m\u001b[1;33m\u001b[0m\u001b[0m\n",
      "\u001b[1;32m~\\Anaconda3\\lib\\site-packages\\googletrans\\gtoken.py\u001b[0m in \u001b[0;36macquire\u001b[1;34m(self, text)\u001b[0m\n\u001b[0;32m    162\u001b[0m         \u001b[0me\u001b[0m \u001b[1;33m=\u001b[0m \u001b[1;33m[\u001b[0m\u001b[1;33m]\u001b[0m\u001b[1;33m\u001b[0m\u001b[1;33m\u001b[0m\u001b[0m\n\u001b[0;32m    163\u001b[0m         \u001b[0mg\u001b[0m \u001b[1;33m=\u001b[0m \u001b[1;36m0\u001b[0m\u001b[1;33m\u001b[0m\u001b[1;33m\u001b[0m\u001b[0m\n\u001b[1;32m--> 164\u001b[1;33m         \u001b[0msize\u001b[0m \u001b[1;33m=\u001b[0m \u001b[0mlen\u001b[0m\u001b[1;33m(\u001b[0m\u001b[0mtext\u001b[0m\u001b[1;33m)\u001b[0m\u001b[1;33m\u001b[0m\u001b[1;33m\u001b[0m\u001b[0m\n\u001b[0m\u001b[0;32m    165\u001b[0m         \u001b[1;32mwhile\u001b[0m \u001b[0mg\u001b[0m \u001b[1;33m<\u001b[0m \u001b[0msize\u001b[0m\u001b[1;33m:\u001b[0m\u001b[1;33m\u001b[0m\u001b[1;33m\u001b[0m\u001b[0m\n\u001b[0;32m    166\u001b[0m             \u001b[0ml\u001b[0m \u001b[1;33m=\u001b[0m \u001b[0ma\u001b[0m\u001b[1;33m[\u001b[0m\u001b[0mg\u001b[0m\u001b[1;33m]\u001b[0m\u001b[1;33m\u001b[0m\u001b[1;33m\u001b[0m\u001b[0m\n",
      "\u001b[1;31mTypeError\u001b[0m: object of type 'generator' has no len()"
     ]
    }
   ],
   "source": [
    "for saved_column in csv_read:\n",
    "    result = translator.translate(saved_column[i] for i in [0,1])\n",
    "    print(result.text)"
   ]
  },
  {
   "cell_type": "code",
   "execution_count": null,
   "metadata": {},
   "outputs": [],
   "source": [
    "result = translator.translate('안녕하세요.')"
   ]
  },
  {
   "cell_type": "code",
   "execution_count": null,
   "metadata": {},
   "outputs": [],
   "source": [
    "from googletrans import Translator\n",
    "import pandas as pd\n",
    "\n",
    "headers = ['description', 'translate']\n",
    "data = pd.read_csv('try.csv')\n",
    "translator = Translator()\n",
    "# Init empty dataframe with much rows as `data`\n",
    "df = pd.DataFrame(index=range(0,len(data)), columns=headers)\n",
    "\n",
    "\n",
    "def translate_row(row):\n",
    "    ''' Translate elements A and B within `row`. '''\n",
    "    a = translator.translate(row[0], dest='Fr')\n",
    "    b = translator.translate(row[1], dest='Fr')\n",
    "    return pd.Series([a.origin, b.origin, a.text, b.text], headers)\n",
    "\n",
    "\n",
    "for i, row in enumerate(data.values):\n",
    "    # Fill empty dataframe with given serie.\n",
    "    df.loc[i] = translate_row(row)\n",
    "\n",
    "print(df)"
   ]
  }
 ],
 "metadata": {
  "kernelspec": {
   "display_name": "Python 3",
   "language": "python",
   "name": "python3"
  },
  "language_info": {
   "codemirror_mode": {
    "name": "ipython",
    "version": 3
   },
   "file_extension": ".py",
   "mimetype": "text/x-python",
   "name": "python",
   "nbconvert_exporter": "python",
   "pygments_lexer": "ipython3",
   "version": "3.7.5"
  }
 },
 "nbformat": 4,
 "nbformat_minor": 2
}
